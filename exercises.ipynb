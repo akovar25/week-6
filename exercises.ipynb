{
  "cells": [
    {
      "cell_type": "markdown",
      "id": "ded28f26",
      "metadata": {},
      "source": [
        "<font color='darkred'> Unless otherwise noted, **this notebook will not be reviewed or autograded.**</font> You are welcome to use it for scratchwork, but **only the files listed in the exercises will be checked.**\n",
        "\n",
        "---\n",
        "\n",
        "# Exercises\n",
        "\n",
        "For these exercises, you'll be creating a [Python class](https://www.hackerearth.com/practice/python/object-oriented-programming/classes-and-objects-i/tutorial/) in the *apputil.py* file.\n",
        "\n",
        "A few tips:\n",
        "\n",
        "- Some of these exercises will require some \"JSON digging\".\n",
        "- <font color='lightblue'>Your functions should still adhere to [best practices](https://codesignal.com/learn/courses/clean-code-basics-with-python/lessons/clean-function-design-in-python), so **your class should probably contain more functions than only the ones dictated below**.</font>\n"
      ]
    },
    {
      "cell_type": "markdown",
      "id": "951027e2",
      "metadata": {},
      "source": [
        "## Exercise 1\n",
        "\n",
        "Create a Python class named `Genius` such that the following code initializes the object, and \"saves\" the access token as an attribute of the object. You'll need to use this attribute for Exercises 2 and 3.\n",
        "\n",
        "```python\n",
        "from apputil import Genius\n",
        "\n",
        "genius = Genius(access_token=\"access_token\")\n",
        "```"
      ]
    },
    {
      "cell_type": "code",
      "execution_count": null,
      "id": "990ba773",
      "metadata": {},
      "outputs": [],
      "source": [
        "# apputil.py\n",
        "\n",
        "class Genius:\n",
        "    def __init__(self, access_token):\n",
        "        self.access_token = access_token"
      ]
    },
    {
      "cell_type": "markdown",
      "id": "bde62e8d",
      "metadata": {},
      "source": [
        "## Exercise 2\n",
        "\n",
        "Reference the `json_data` in the lab. Notice, when we search for an artist name (e.g., \"Missy Elliot\") in Genius, the result is a list of *songs* attributed to that artist. Suppose we want to capture information about the artist themselves.\n",
        "\n",
        "Create a method for our `Genius` class called `.get_artist(search_term)` which does the following:\n",
        "\n",
        "1. Extract the (most likely, \"Primary\") Artist ID from the first \"hit\" of the `search_term`.\n",
        "2. Use the [API path](https://docs.genius.com/#artists-h2) for this Artist ID to pull information about the artist.\n",
        "3. **Return** the dictionary containing the resulting JSON object.\n",
        "\n",
        "For example, the following code should return a dictionary of artist information:\n",
        "\n",
        "```python\n",
        "genius.get_artist(\"Radiohead\")\n",
        "```"
      ]
    },
    {
      "cell_type": "code",
      "execution_count": null,
      "id": "ce9b70b4",
      "metadata": {},
      "outputs": [],
      "source": [
        "# apputil.py\n",
        "import requests\n",
        "\n",
        "class Genius:\n",
        "    def __init__(self, access_token):\n",
        "        self.access_token = access_token\n",
        "        self.base_url = \"https://api.genius.com\"\n",
        "\n",
        "    def get_artist(self, search_term):\n",
        "        headers = {\n",
        "            \"Authorization\": f\"Bearer {self.access_token}\"\n",
        "        }\n",
        "\n",
        "        # Step 1: Search for the artist\n",
        "        search_url = f\"{self.base_url}/search\"\n",
        "        params = {\"q\": search_term}\n",
        "        response = requests.get(search_url, headers=headers, params=params)\n",
        "        data = response.json()\n",
        "\n",
        "        # Step 2: Extract the primary artist ID from the first hit\n",
        "        first_hit = data[\"response\"][\"hits\"][0]\n",
        "        artist_id = first_hit[\"result\"][\"primary_artist\"][\"id\"]\n",
        "\n",
        "        # Step 3: Use the artist ID to get artist info\n",
        "        artist_url = f\"{self.base_url}/artists/{artist_id}\"\n",
        "        artist_response = requests.get(artist_url, headers=headers)\n",
        "        artist_data = artist_response.json()\n",
        "\n",
        "        # Step 4: Return the artist data dictionary\n",
        "        return artist_data"
      ]
    },
    {
      "cell_type": "markdown",
      "id": "55054b2a",
      "metadata": {},
      "source": [
        "## Exercise 3\n",
        "\n",
        "Use the result from Exercise 2 to create another method for our `Genius` class called `.get_artists(search_terms)` (plural) which takes in a *list* of search terms, and returns a DataFrame containing a row for each search term, and the following columns:\n",
        "\n",
        "- `search_term`: the raw search term from `search_terms`\n",
        "- `artist_name`: the (most likely) artist name for the search term\n",
        "- `artist_id`: the Genius Artist ID for that artist, based on the API call\n",
        "- `followers_count`: the number of followers for that artist (if available)\n",
        "\n",
        "For example, the following should return a DataFrame with 4 rows:\n",
        "\n",
        "```python\n",
        "genius.get_artists(['Rihanna', 'Tycho', 'Seal', 'U2'])\n",
        "```"
      ]
    },
    {
      "cell_type": "code",
      "execution_count": null,
      "id": "0c11eaee",
      "metadata": {},
      "outputs": [],
      "source": [
        "# apputil.py\n",
        "import requests\n",
        "import pandas as pd\n",
        "\n",
        "class Genius:\n",
        "    def __init__(self, access_token):\n",
        "        self.access_token = access_token\n",
        "        self.base_url = \"https://api.genius.com\"\n",
        "\n",
        "    def get_artist(self, search_term):\n",
        "        headers = {\n",
        "            \"Authorization\": f\"Bearer {self.access_token}\"\n",
        "        }\n",
        "\n",
        "        search_url = f\"{self.base_url}/search\"\n",
        "        params = {\"q\": search_term}\n",
        "        response = requests.get(search_url, headers=headers, params=params)\n",
        "        data = response.json()\n",
        "\n",
        "        first_hit = data[\"response\"][\"hits\"][0]\n",
        "        artist_id = first_hit[\"result\"][\"primary_artist\"][\"id\"]\n",
        "\n",
        "        artist_url = f\"{self.base_url}/artists/{artist_id}\"\n",
        "        artist_response = requests.get(artist_url, headers=headers)\n",
        "        artist_data = artist_response.json()\n",
        "\n",
        "        return artist_data\n",
        "\n",
        "    def get_artists(self, search_terms):\n",
        "        results = []\n",
        "\n",
        "        for term in search_terms:\n",
        "            try:\n",
        "                artist_data = self.get_artist(term)\n",
        "                artist_info = artist_data[\"response\"][\"artist\"]\n",
        "\n",
        "                results.append({\n",
        "                    \"search_term\": term,\n",
        "                    \"artist_name\": artist_info.get(\"name\"),\n",
        "                    \"artist_id\": artist_info.get(\"id\"),\n",
        "                    \"followers_count\": artist_info.get(\"followers_count\")\n",
        "                })\n",
        "            except Exception as e:\n",
        "                results.append({\n",
        "                    \"search_term\": term,\n",
        "                    \"artist_name\": None,\n",
        "                    \"artist_id\": None,\n",
        "                    \"followers_count\": None\n",
        "                })\n",
        "\n",
        "        return pd.DataFrame(results)"
      ]
    },
    {
      "cell_type": "markdown",
      "id": "20fd446a",
      "metadata": {},
      "source": [
        "## Bonus Exercise (optional)\n",
        "\n",
        "1. Gather a list of 100+ various musical artists, and save this list in a TXT file.\n",
        "2. Write a Python *script* that saves the result of `.get_artists` for these artists in a CSV file.\n",
        "3. If you have time, adjust this script to use multiprocessing."
      ]
    }
  ],
  "metadata": {
    "colab": {
      "provenance": []
    },
    "kernelspec": {
      "display_name": "my_env_name",
      "language": "python",
      "name": "python3"
    },
    "language_info": {
      "codemirror_mode": {
        "name": "ipython",
        "version": 3
      },
      "file_extension": ".py",
      "mimetype": "text/x-python",
      "name": "python",
      "nbconvert_exporter": "python",
      "pygments_lexer": "ipython3",
      "version": "3.13.7"
    }
  },
  "nbformat": 4,
  "nbformat_minor": 5
}
